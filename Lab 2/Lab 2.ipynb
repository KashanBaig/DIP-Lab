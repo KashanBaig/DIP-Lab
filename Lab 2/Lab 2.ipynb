{
 "cells": [
  {
   "cell_type": "code",
   "execution_count": 5,
   "metadata": {
    "collapsed": false
   },
   "outputs": [
    {
     "name": "stdout",
     "output_type": "stream",
     "text": [
      "Even digits [4, 8]\n",
      "odd digits [1, 7, 9]\n"
     ]
    }
   ],
   "source": [
    "l=[1,4,7,8,9]\n",
    "evenDigits = []\n",
    "oddDigits = []\n",
    "for i in l:\n",
    "    if(i%2==0):\n",
    "        evenDigits.append(i)\n",
    "    else:\n",
    "        oddDigits.append(i)\n",
    "print(\"Even digits\" , evenDigits)\n",
    "print(\"odd digits\" , oddDigits)"
   ]
  },
  {
   "cell_type": "code",
   "execution_count": 8,
   "metadata": {
    "collapsed": false
   },
   "outputs": [
    {
     "name": "stdout",
     "output_type": "stream",
     "text": [
      "Before\n",
      " [1, 4, 7, 8, 9]\n",
      "After\n",
      " [1, 4, 10, 8, 9]\n"
     ]
    }
   ],
   "source": [
    "l=[1,4,7,8,9]\n",
    "print(\"Before\\n\",l)\n",
    "l[2] = 10\n",
    "print(\"After\\n\",l)"
   ]
  },
  {
   "cell_type": "code",
   "execution_count": 12,
   "metadata": {
    "collapsed": false
   },
   "outputs": [
    {
     "name": "stdout",
     "output_type": "stream",
     "text": [
      "Before\n",
      " (1, 2, 3, 4, 5)\n",
      "After\n",
      " [1, 2, 10, 4, 5]\n"
     ]
    }
   ],
   "source": [
    "t = (1,2,3,4,5)\n",
    "print(\"Before\\n\",t)\n",
    "l = list(t)\n",
    "l[2] = 10\n",
    "print(\"After\\n\",l)"
   ]
  },
  {
   "cell_type": "code",
   "execution_count": 14,
   "metadata": {
    "collapsed": false
   },
   "outputs": [
    {
     "data": {
      "text/plain": [
       "{'Haad': 100, 'Kamran': 89, 'Shenen': 90, 'Waqar': 88}"
      ]
     },
     "execution_count": 14,
     "metadata": {},
     "output_type": "execute_result"
    }
   ],
   "source": [
    "d = {\n",
    "    \"Shenen\": 90,\n",
    "    \"Haad\": 100,\n",
    "    \"Waqar\": 88\n",
    "}\n",
    "d[\"Kamran\"] = 89\n",
    "d"
   ]
  },
  {
   "cell_type": "code",
   "execution_count": 21,
   "metadata": {
    "collapsed": false
   },
   "outputs": [
    {
     "data": {
      "text/plain": [
       "{'even': 2, 'odd': 3}"
      ]
     },
     "execution_count": 21,
     "metadata": {},
     "output_type": "execute_result"
    }
   ],
   "source": [
    "d = {}\n",
    "l=[1,4,7,8,9]\n",
    "even=0\n",
    "odd=0\n",
    "for i in l:\n",
    "    if i%2==0:\n",
    "        even = even+1\n",
    "    else:\n",
    "        odd = odd+1\n",
    "d[\"even\"] = even\n",
    "d[\"odd\"] = odd\n",
    "d"
   ]
  },
  {
   "cell_type": "code",
   "execution_count": 28,
   "metadata": {
    "collapsed": false
   },
   "outputs": [
    {
     "name": "stdout",
     "output_type": "stream",
     "text": [
      "{'papar': 2, 'kacha': 1, 'pakka': 1}\n"
     ]
    }
   ],
   "source": [
    "s = \"kacha papar pakka papar\"\n",
    "d = {}\n",
    "for word in s.split():\n",
    "      d[word] = d.get(word,0)+1\n",
    "print(d)"
   ]
  },
  {
   "cell_type": "code",
   "execution_count": 11,
   "metadata": {
    "collapsed": false
   },
   "outputs": [
    {
     "name": "stdout",
     "output_type": "stream",
     "text": [
      "[1, 4, 9, 16, 25, 36, 49, 64, 81, 100, 121, 144, 169, 196, 225, 256, 289, 324, 361, 400]\n"
     ]
    }
   ],
   "source": [
    "def square():\n",
    "    l = []\n",
    "    for i in range(1,21):\n",
    "        l.append(i*i)\n",
    "    print(l)\n",
    "square()"
   ]
  },
  {
   "cell_type": "code",
   "execution_count": null,
   "metadata": {
    "collapsed": true
   },
   "outputs": [],
   "source": []
  }
 ],
 "metadata": {
  "kernelspec": {
   "display_name": "Python [Root]",
   "language": "python",
   "name": "Python [Root]"
  },
  "language_info": {
   "codemirror_mode": {
    "name": "ipython",
    "version": 3
   },
   "file_extension": ".py",
   "mimetype": "text/x-python",
   "name": "python",
   "nbconvert_exporter": "python",
   "pygments_lexer": "ipython3",
   "version": "3.5.2"
  }
 },
 "nbformat": 4,
 "nbformat_minor": 0
}
