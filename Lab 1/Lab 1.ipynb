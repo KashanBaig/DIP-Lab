{
 "cells": [
  {
   "cell_type": "code",
   "execution_count": 13,
   "metadata": {
    "collapsed": false
   },
   "outputs": [
    {
     "name": "stdout",
     "output_type": "stream",
     "text": [
      "Enter A Month6\n",
      "Spring\n"
     ]
    }
   ],
   "source": [
    "m = int(input(\"Enter A Month\"))\n",
    "\n",
    "if m>=1 and m<=3:\n",
    "    print(\"Winter\")\n",
    "elif m>=4 and m<=6:\n",
    "    print(\"Spring\")\n",
    "elif m>=7 and m<=9:\n",
    "    print(\"Summer\")\n",
    "elif m>=10 and m<=12:\n",
    "    print(\"Autumn\")\n",
    "else:\n",
    "    print(\"Invalid input\")"
   ]
  },
  {
   "cell_type": "code",
   "execution_count": 5,
   "metadata": {
    "collapsed": false
   },
   "outputs": [
    {
     "name": "stdout",
     "output_type": "stream",
     "text": [
      "Enter First Value\n",
      "9\n",
      "Enter Second Value\n",
      "3\n",
      "12 \n",
      " 6 \n",
      " 27 \n",
      " 3.0\n"
     ]
    }
   ],
   "source": [
    "a = int(input(\"Enter First Value\\n\"))\n",
    "b = int(input(\"Enter Second Value\\n\"))\n",
    "\n",
    "print(a+b,\"\\n\",a-b,\"\\n\",a*b,\"\\n\",a/b)"
   ]
  },
  {
   "cell_type": "code",
   "execution_count": 12,
   "metadata": {
    "collapsed": false
   },
   "outputs": [
    {
     "name": "stdout",
     "output_type": "stream",
     "text": [
      "Enter First Value\n",
      "456\n",
      "Enter Second Value\n",
      "367\n",
      "Enter Third Value\n",
      "463\n",
      "\n",
      "Greatest value is 463\n"
     ]
    }
   ],
   "source": [
    "a = int(input(\"Enter First Value\\n\"))\n",
    "b = int(input(\"Enter Second Value\\n\"))\n",
    "c = int(input(\"Enter Third Value\\n\"))\n",
    "\n",
    "if a>b and a>c:\n",
    "    print(\"\\nGreatest value is\",a)\n",
    "elif b>c and b>a:\n",
    "    print(\"\\nGreatest value is\",b)\n",
    "else:\n",
    "    print(\"\\nGreatest value is\",c)"
   ]
  },
  {
   "cell_type": "code",
   "execution_count": 14,
   "metadata": {
    "collapsed": false
   },
   "outputs": [
    {
     "name": "stdout",
     "output_type": "stream",
     "text": [
      "Enter a value to find leap year\n",
      "2016\n",
      "The year is a leap year 'it has 366 days'\n"
     ]
    }
   ],
   "source": [
    "y = int(input(\"Enter a value to find leap year\\n\"))\n",
    "\n",
    "if y%4==0:\n",
    "    print(\"The year is a leap year 'it has 366 days'\")\n",
    "elif y%100==0:\n",
    "    print(\"The year is a leap year 'it has 366 days'\")\n",
    "elif y%400==0:\n",
    "    print(\"The year is a leap year 'it has 366 days'\")\n",
    "else:\n",
    "    print(\"The year is not a leap year 'it has 365 days'\")"
   ]
  },
  {
   "cell_type": "code",
   "execution_count": 15,
   "metadata": {
    "collapsed": false
   },
   "outputs": [
    {
     "name": "stdout",
     "output_type": "stream",
     "text": [
      "Enter any sentence\n",
      "kashan baig\n",
      "11\n"
     ]
    }
   ],
   "source": [
    "line = input(\"Enter any sentence\\n\")\n",
    "print(len(line))"
   ]
  },
  {
   "cell_type": "code",
   "execution_count": 44,
   "metadata": {
    "collapsed": false
   },
   "outputs": [
    {
     "name": "stdout",
     "output_type": "stream",
     "text": [
      "Input a stringkashan baig 96\n",
      "Alphabets 10\n",
      "Digits 2\n"
     ]
    }
   ],
   "source": [
    "line = input(\"Input a string\")\n",
    "d=0\n",
    "a=0\n",
    "for i in line:\n",
    "    if i.isdigit():\n",
    "        d=d+1\n",
    "    elif i.isalpha():\n",
    "        a=a+1\n",
    "        \n",
    "print(\"Alphabets\", a)\n",
    "print(\"Digits\", d)\n"
   ]
  },
  {
   "cell_type": "code",
   "execution_count": 40,
   "metadata": {
    "collapsed": false
   },
   "outputs": [
    {
     "name": "stdout",
     "output_type": "stream",
     "text": [
      "Even Numbers\n",
      "2\n",
      "4\n",
      "6\n",
      "8\n",
      "10\n",
      "12\n",
      "14\n",
      "16\n",
      "18\n",
      "20\n",
      "22\n",
      "24\n",
      "26\n",
      "28\n",
      "30\n",
      "32\n",
      "34\n",
      "36\n",
      "38\n",
      "40\n",
      "42\n",
      "44\n",
      "46\n",
      "48\n",
      "50\n",
      "52\n",
      "54\n",
      "56\n",
      "58\n",
      "60\n",
      "62\n",
      "64\n",
      "66\n",
      "68\n",
      "70\n",
      "72\n",
      "74\n",
      "76\n",
      "78\n",
      "80\n",
      "82\n",
      "84\n",
      "86\n",
      "88\n",
      "90\n",
      "92\n",
      "94\n",
      "96\n",
      "98\n",
      "100\n",
      "\n",
      "Odd Numbers\n",
      "1\n",
      "3\n",
      "5\n",
      "7\n",
      "9\n",
      "11\n",
      "13\n",
      "15\n",
      "17\n",
      "19\n",
      "21\n",
      "23\n",
      "25\n",
      "27\n",
      "29\n",
      "31\n",
      "33\n",
      "35\n",
      "37\n",
      "39\n",
      "41\n",
      "43\n",
      "45\n",
      "47\n",
      "49\n",
      "51\n",
      "53\n",
      "55\n",
      "57\n",
      "59\n",
      "61\n",
      "63\n",
      "65\n",
      "67\n",
      "69\n",
      "71\n",
      "73\n",
      "75\n",
      "77\n",
      "79\n",
      "81\n",
      "83\n",
      "85\n",
      "87\n",
      "89\n",
      "91\n",
      "93\n",
      "95\n",
      "97\n",
      "99\n",
      "\n",
      "Multiple Of 7\n",
      "7\n",
      "14\n",
      "21\n",
      "28\n",
      "35\n",
      "42\n",
      "49\n",
      "56\n",
      "63\n",
      "70\n",
      "77\n",
      "84\n",
      "91\n",
      "98\n"
     ]
    }
   ],
   "source": [
    "print(\"Even Numbers\")\n",
    "for i in range(1,101):\n",
    "    if i%2==0:\n",
    "        print(i)\n",
    "        \n",
    "print(\"\\nOdd Numbers\")\n",
    "for i in range(1,101):\n",
    "    if i%2==1:\n",
    "        print(i)\n",
    "\n",
    "print(\"\\nMultiple Of 7\")\n",
    "for i in range(1,101):\n",
    "    if i%7==0:\n",
    "        print(i)\n"
   ]
  },
  {
   "cell_type": "code",
   "execution_count": 34,
   "metadata": {
    "collapsed": false
   },
   "outputs": [
    {
     "name": "stdout",
     "output_type": "stream",
     "text": [
      "Enter a sentence\n",
      "bob\n",
      "It is Palindrome\n"
     ]
    }
   ],
   "source": [
    "a = input(\"Enter a sentence\\n\")\n",
    "if a == a[-1::-1]:\n",
    "    print(\"It is Palindrome\")\n",
    "else:\n",
    "    print(\"It is not Palindrome\")"
   ]
  },
  {
   "cell_type": "code",
   "execution_count": 48,
   "metadata": {
    "collapsed": false
   },
   "outputs": [
    {
     "name": "stdout",
     "output_type": "stream",
     "text": [
      "Enter a string : hello hello world\n",
      "hello : 2\n",
      "world : 1\n"
     ]
    }
   ],
   "source": [
    "line = input(\"Enter a string : \")\n",
    "\n",
    "words_dict = {}\n",
    "\n",
    "for word in line.split():\n",
    "    words_dict[word] = words_dict.get(word,0) + 1\n",
    "\n",
    "\n",
    "for key in words_dict:\n",
    "    print(\"{} : {}\".format(key,words_dict[key]))"
   ]
  },
  {
   "cell_type": "code",
   "execution_count": 51,
   "metadata": {
    "collapsed": false
   },
   "outputs": [
    {
     "name": "stdout",
     "output_type": "stream",
     "text": [
      "{'April': 4, 'February': 2, 'january': 1, 'March': 3}\n"
     ]
    }
   ],
   "source": [
    "dictionary = {\n",
    "    \"january\": 1,\n",
    "    \"February\": 2,\n",
    "    \"March\": 3,\n",
    "    \"April\":4\n",
    "}\n",
    "\n",
    "print(dictionary)"
   ]
  },
  {
   "cell_type": "code",
   "execution_count": null,
   "metadata": {
    "collapsed": true
   },
   "outputs": [],
   "source": []
  }
 ],
 "metadata": {
  "anaconda-cloud": {},
  "kernelspec": {
   "display_name": "Python [Root]",
   "language": "python",
   "name": "Python [Root]"
  },
  "language_info": {
   "codemirror_mode": {
    "name": "ipython",
    "version": 3
   },
   "file_extension": ".py",
   "mimetype": "text/x-python",
   "name": "python",
   "nbconvert_exporter": "python",
   "pygments_lexer": "ipython3",
   "version": "3.5.2"
  }
 },
 "nbformat": 4,
 "nbformat_minor": 0
}
