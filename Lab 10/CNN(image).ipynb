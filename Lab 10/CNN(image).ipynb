{
  "nbformat": 4,
  "nbformat_minor": 0,
  "metadata": {
    "colab": {
      "name": "CNN(image).ipynb",
      "version": "0.3.2",
      "provenance": []
    },
    "kernelspec": {
      "name": "python3",
      "display_name": "Python 3"
    },
    "accelerator": "GPU"
  },
  "cells": [
    {
      "metadata": {
        "id": "sdD7Plxbbfjt",
        "colab_type": "code",
        "colab": {
          "base_uri": "https://localhost:8080/",
          "height": 51
        },
        "outputId": "34bb5f36-9c44-4162-8cca-a1665c9d0479"
      },
      "cell_type": "code",
      "source": [
        "from keras.applications import VGG16\n",
        "conv_base = VGG16(weights='imagenet',                  \n",
        "                  include_top=False,                 \n",
        "                  input_shape=(150, 150, 3))"
      ],
      "execution_count": 16,
      "outputs": [
        {
          "output_type": "stream",
          "text": [
            "Downloading data from https://github.com/fchollet/deep-learning-models/releases/download/v0.1/vgg16_weights_tf_dim_ordering_tf_kernels_notop.h5\n",
            "58892288/58889256 [==============================] - 2s 0us/step\n"
          ],
          "name": "stdout"
        }
      ]
    },
    {
      "metadata": {
        "id": "ldtr3fNIvbCg",
        "colab_type": "code",
        "outputId": "675472c9-0c05-444f-8eb4-d604d91acc0c",
        "colab": {
          "base_uri": "https://localhost:8080/",
          "height": 34
        }
      },
      "cell_type": "code",
      "source": [
        "from google.colab import drive\n",
        "drive.mount('/content/gdrive')"
      ],
      "execution_count": 17,
      "outputs": [
        {
          "output_type": "stream",
          "text": [
            "Drive already mounted at /content/gdrive; to attempt to forcibly remount, call drive.mount(\"/content/gdrive\", force_remount=True).\n"
          ],
          "name": "stdout"
        }
      ]
    },
    {
      "metadata": {
        "id": "Jiicd947YpeY",
        "colab_type": "code",
        "colab": {
          "base_uri": "https://localhost:8080/",
          "height": 68
        },
        "outputId": "3fcd4e1e-6f8e-41a7-c473-e8ecc86647a2"
      },
      "cell_type": "code",
      "source": [
        "import os\n",
        "os.getcwd()\n",
        "os.chdir('/content/gdrive/My Drive/Colab Notebooks/Lab # 9')\n",
        "!ls"
      ],
      "execution_count": 18,
      "outputs": [
        {
          "output_type": "stream",
          "text": [
            " cat_and_dog\t\t     'CNN(image).ipynb'\t\t models\n",
            " cat.png\t\t     'Data augmentation.ipynb'\t validation\n",
            " cats_and_dogs_small_2.html   dog.png\t\t\t VGG16.ipynb\n"
          ],
          "name": "stdout"
        }
      ]
    },
    {
      "metadata": {
        "id": "blVbMHbZbfj3",
        "colab_type": "code",
        "colab": {}
      },
      "cell_type": "code",
      "source": [
        "from keras import models\n",
        "from keras import layers\n",
        "\n",
        "model = models.Sequential() \n",
        "model.add(conv_base)\n",
        "model.add(layers.Flatten())\n",
        "model.add(layers.Dense(256, activation='relu'))\n",
        "model.add(layers.Dense(1, activation='sigmoid'))"
      ],
      "execution_count": 0,
      "outputs": []
    },
    {
      "metadata": {
        "id": "Buwo0WuUbfj7",
        "colab_type": "code",
        "colab": {}
      },
      "cell_type": "code",
      "source": [
        "conv_base.trainable = True\n",
        "\n",
        "set_trainable = False\n",
        "for layer in conv_base.layers:\n",
        "    if layer.name == 'block5_conv1':\n",
        "        set_trainable = True\n",
        "    elif set_trainable:\n",
        "        layer.trainable = True\n",
        "    else:\n",
        "        layer.trainable = False"
      ],
      "execution_count": 0,
      "outputs": []
    },
    {
      "metadata": {
        "id": "mkrUYf2hbfkA",
        "colab_type": "code",
        "colab": {}
      },
      "cell_type": "code",
      "source": [
        "from keras import optimizers\n",
        "\n",
        "model.compile(loss='binary_crossentropy',\n",
        "             optimizer=optimizers.RMSprop(lr=1e-5),\n",
        "             metrics=['acc'])"
      ],
      "execution_count": 0,
      "outputs": []
    },
    {
      "metadata": {
        "id": "pzf5M6jpbfkG",
        "colab_type": "code",
        "outputId": "eb22a9dd-daeb-455f-d587-1df031a26cc8",
        "colab": {
          "base_uri": "https://localhost:8080/",
          "height": 51
        }
      },
      "cell_type": "code",
      "source": [
        "from keras.preprocessing.image import ImageDataGenerator\n",
        "\n",
        "train_datagen = ImageDataGenerator(rescale=1./255,\n",
        "                                   rotation_range=40,\n",
        "                                   width_shift_range=0.2,\n",
        "                                   height_shift_range=0.2,\n",
        "                                   shear_range=0.2,\n",
        "                                   zoom_range=0.2,\n",
        "                                   horizontal_flip=True,)\n",
        "# Note that the validation data should not be augmented! \n",
        "test_datagen = ImageDataGenerator(rescale=1./255)\n",
        "train_generator = train_datagen.flow_from_directory(        \n",
        "            # This is the target directory        \n",
        "            'cat_and_dog',       \n",
        "            # All images will be resized to 150x150        \n",
        "            target_size=(150, 150),        \n",
        "            batch_size=32,        \n",
        "            # Since we use binary_crossentropy loss, we need binary labels        \n",
        "            class_mode='binary')\n",
        "\n",
        "validation_generator = test_datagen.flow_from_directory('validation',        \n",
        "                                                        target_size=(150, 150),       \n",
        "                                                        batch_size=32,     \n",
        "                                                        class_mode='binary')\n"
      ],
      "execution_count": 22,
      "outputs": [
        {
          "output_type": "stream",
          "text": [
            "Found 142 images belonging to 2 classes.\n",
            "Found 58 images belonging to 2 classes.\n"
          ],
          "name": "stdout"
        }
      ]
    },
    {
      "metadata": {
        "id": "s7evyiP_bfkL",
        "colab_type": "code",
        "outputId": "ce2d1ee2-291b-45f0-b3ec-0c01d6f2087f",
        "colab": {
          "base_uri": "https://localhost:8080/",
          "height": 357
        }
      },
      "cell_type": "code",
      "source": [
        "\n",
        "history = model.fit_generator(\n",
        "            train_generator,\n",
        "            steps_per_epoch=100,\n",
        "            epochs=10,\n",
        "            validation_data=validation_generator,\n",
        "            validation_steps=50)"
      ],
      "execution_count": 23,
      "outputs": [
        {
          "output_type": "stream",
          "text": [
            "Epoch 1/10\n",
            "100/100 [==============================] - 88s 878ms/step - loss: 0.0607 - acc: 0.9875 - val_loss: 1.5540e-05 - val_acc: 1.0000\n",
            "Epoch 2/10\n",
            "100/100 [==============================] - 33s 329ms/step - loss: 9.9192e-05 - acc: 1.0000 - val_loss: 2.1543e-07 - val_acc: 1.0000\n",
            "Epoch 3/10\n",
            "100/100 [==============================] - 33s 329ms/step - loss: 4.8967e-06 - acc: 1.0000 - val_loss: 1.0960e-07 - val_acc: 1.0000\n",
            "Epoch 4/10\n",
            "100/100 [==============================] - 33s 329ms/step - loss: 6.5032e-07 - acc: 1.0000 - val_loss: 1.0960e-07 - val_acc: 1.0000\n",
            "Epoch 5/10\n",
            "100/100 [==============================] - 33s 330ms/step - loss: 1.6343e-07 - acc: 1.0000 - val_loss: 1.0960e-07 - val_acc: 1.0000\n",
            "Epoch 6/10\n",
            "100/100 [==============================] - 33s 333ms/step - loss: 1.3883e-07 - acc: 1.0000 - val_loss: 1.0960e-07 - val_acc: 1.0000\n",
            "Epoch 7/10\n",
            "100/100 [==============================] - 33s 334ms/step - loss: 1.2415e-07 - acc: 1.0000 - val_loss: 1.0960e-07 - val_acc: 1.0000\n",
            "Epoch 8/10\n",
            "100/100 [==============================] - 33s 333ms/step - loss: 1.2440e-07 - acc: 1.0000 - val_loss: 1.0960e-07 - val_acc: 1.0000\n",
            "Epoch 9/10\n",
            "100/100 [==============================] - 33s 332ms/step - loss: 1.2314e-07 - acc: 1.0000 - val_loss: 1.0960e-07 - val_acc: 1.0000\n",
            "Epoch 10/10\n",
            "100/100 [==============================] - 33s 330ms/step - loss: 1.2191e-07 - acc: 1.0000 - val_loss: 1.0960e-07 - val_acc: 1.0000\n"
          ],
          "name": "stdout"
        }
      ]
    },
    {
      "metadata": {
        "id": "zStUcxMbbfkQ",
        "colab_type": "code",
        "colab": {
          "base_uri": "https://localhost:8080/",
          "height": 707
        },
        "outputId": "f70c9b6d-dd7f-4f14-a151-98b9d589d56c"
      },
      "cell_type": "code",
      "source": [
        "import matplotlib.pyplot as plt\n",
        "acc = history.history['acc'] \n",
        "val_acc = history.history['val_acc'] \n",
        "loss = history.history['loss'] \n",
        "val_loss = history.history['val_loss']\n",
        "\n",
        "epochs = range(1, len(acc) + 1)\n",
        "\n",
        "plt.plot(epochs, acc, 'bo', label='Training acc') \n",
        "plt.plot(epochs, val_acc, 'b', label='Validation acc') \n",
        "plt.title('Training and validation accuracy') \n",
        "plt.legend()\n",
        "plt.figure()\n",
        "\n",
        "plt.plot(epochs, loss, 'bo', label='Training loss') \n",
        "plt.plot(epochs, val_loss, 'b', label='Validation loss') \n",
        "plt.title('Training and validation loss') \n",
        "plt.legend()\n",
        "\n",
        "plt.show()\n"
      ],
      "execution_count": 24,
      "outputs": [
        {
          "output_type": "display_data",
          "data": {
            "image/png": "[encoded data removed]",
            "text/plain": [
              "<matplotlib.figure.Figure at 0x7f7d87298160>"
            ]
          },
          "metadata": {
            "tags": []
          }
        },
        {
          "output_type": "display_data",
          "data": {
            "image/png": "[encoded data removed]",
            "text/plain": [
              "<matplotlib.figure.Figure at 0x7f7d87ead0f0>"
            ]
          },
          "metadata": {
            "tags": []
          }
        }
      ]
    },
    {
      "metadata": {
        "id": "l8Q9dmNob5Hn",
        "colab_type": "text"
      },
      "cell_type": "markdown",
      "source": [
        ""
      ]
    },
    {
      "metadata": {
        "id": "zk0cJ_ABb6yi",
        "colab_type": "code",
        "outputId": "fc680690-038a-4a65-e4fe-6527caaa245c",
        "colab": {
          "base_uri": "https://localhost:8080/",
          "height": 34
        }
      },
      "cell_type": "code",
      "source": [
        "ls"
      ],
      "execution_count": 0,
      "outputs": [
        {
          "output_type": "stream",
          "text": [
            "\u001b[0m\u001b[01;34mgdrive\u001b[0m/  \u001b[01;34msample_data\u001b[0m/\n"
          ],
          "name": "stdout"
        }
      ]
    },
    {
      "metadata": {
        "id": "NEJj8vYkb9lN",
        "colab_type": "code",
        "outputId": "1de59af6-2c94-4afc-f59d-79abdad76864",
        "colab": {
          "base_uri": "https://localhost:8080/",
          "height": 34
        }
      },
      "cell_type": "code",
      "source": [
        "pwd"
      ],
      "execution_count": 0,
      "outputs": [
        {
          "output_type": "execute_result",
          "data": {
            "text/plain": [
              "'/content'"
            ]
          },
          "metadata": {
            "tags": []
          },
          "execution_count": 26
        }
      ]
    },
    {
      "metadata": {
        "id": "X_vTXRv-0IE1",
        "colab_type": "code",
        "colab": {}
      },
      "cell_type": "code",
      "source": [
        ""
      ],
      "execution_count": 0,
      "outputs": []
    }
  ]
}